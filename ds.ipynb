{
 "cells": [
  {
   "cell_type": "code",
   "execution_count": 2,
   "metadata": {},
   "outputs": [
    {
     "name": "stdout",
     "output_type": "stream",
     "text": [
      "   姓名             1             2                    3             4   \n",
      "0  张三         10:00  11:51\\n19:10  09:51\\n19:13\\n19:16  10:51\\n19:12  \\\n",
      "1  李四  09:51\\n19:10  09:51\\n19:11         09:51\\n19:12  09:51\\n19:13   \n",
      "\n",
      "                     5             六                    日             8  \n",
      "0  09:51\\n19:13\\n19:16  09:51\\n19:14  09:51\\n19:13\\n19:16  09:51\\n19:16  \n",
      "1         09:51\\n19:14  09:51\\n19:15         09:51\\n19:16  09:51\\n19:17  \n"
     ]
    },
    {
     "ename": "TypeError",
     "evalue": "'expand' is an invalid keyword argument for split()",
     "output_type": "error",
     "traceback": [
      "\u001b[0;31m---------------------------------------------------------------------------\u001b[0m",
      "\u001b[0;31mTypeError\u001b[0m                                 Traceback (most recent call last)",
      "Cell \u001b[0;32mIn[2], line 37\u001b[0m\n\u001b[1;32m      5\u001b[0m \u001b[39mprint\u001b[39m(df\u001b[39m.\u001b[39mhead(\u001b[39m2\u001b[39m))\n\u001b[1;32m      7\u001b[0m \u001b[39m# 使用默认的整数索引（从0开始递增）: index_col = None\u001b[39;00m\n\u001b[1;32m      8\u001b[0m \u001b[39m# 指定某列作为index: index_col = x\u001b[39;00m\n\u001b[1;32m      9\u001b[0m \n\u001b[0;32m   (...)\u001b[0m\n\u001b[1;32m     33\u001b[0m \u001b[39m# 一列数据分割成两列\u001b[39;00m\n\u001b[1;32m     34\u001b[0m \u001b[39m# df['Time'].str.split(':', expand=True)\u001b[39;00m\n\u001b[0;32m---> 37\u001b[0m \u001b[39m\"\u001b[39;49m\u001b[39m啊 爱扥\u001b[39;49m\u001b[39m\"\u001b[39;49m\u001b[39m.\u001b[39;49msplit(\u001b[39m'\u001b[39;49m\u001b[39m \u001b[39;49m\u001b[39m'\u001b[39;49m, expand\u001b[39m=\u001b[39;49m\u001b[39mTrue\u001b[39;49;00m)\n",
      "\u001b[0;31mTypeError\u001b[0m: 'expand' is an invalid keyword argument for split()"
     ]
    }
   ],
   "source": [
    "import pandas as pd\n",
    "df = pd.read_excel('test.xlsx')\n",
    "# df = pd.read_excel('test.xlsx', index_col=None, dtype={'ID': str, 'Name': str, 'Age': int})\n",
    "# df = pd.read_excel('test.xlsx', index_col=1)\n",
    "print(df.head(2))\n",
    "\n",
    "# 使用默认的整数索引（从0开始递增）: index_col = None\n",
    "# 指定某列作为index: index_col = x\n",
    "\n",
    "# 插入一行数据\n",
    "# df.loc[4] = [5, 'E', 20, '2019-01-01 00:00:00']\n",
    "# df.append([5, 'E', 20, '2019-01-01 00:00:00'], ignore_index=True)\n",
    "# ignore_index作用是忽略原来的index, 重新生成一个新的index, 从0开始递增. \n",
    "# 如果不设置ignore_index=True, 会导致插入的数据的index是原来的index, 会导致插入失败\n",
    "\n",
    "# 排序\n",
    "# # 按Age排序\n",
    "# df.sort_values(by='Age', ascending=False, inplace=True)\n",
    "# # 先Age排序基础上, 再Name排序\n",
    "# df.sort_values(by=['Age', 'Name'], ascending=[False, True], inplace=True)\n",
    "\n",
    "# 数据筛选/过滤\n",
    "# # 时间大于9:00的数据\n",
    "# df[df['Time'] > '9:00']\n",
    "# # 筛选出时间列大于9:00或者小于17:00的数据\n",
    "# df[(df['Time'] > '09:00') | (df['Time'] < '17:00')]\n",
    "# # 用apply筛选\n",
    "# df[df['Time'].apply(lambda x: x.hour > 9)]\n",
    "\n",
    "# excel vlookup使用\n",
    "\n",
    "# 数据校验, 找出不符合预期的数据, 并标记\n",
    "# 找出时间在9:01之后的单元格并将其背景颜色标记为红色\n",
    "# def color_red(val):\n",
    "#     color = 'red' if val > datetime.time(9, 1) else 'black'\n",
    "#     return 'color: %s' % color\n",
    "# df.style.applymap(color_red, subset=['Time'])\n",
    "\n",
    "# 一列数据分割成两列\n",
    "# df['Time'].str.split(':', expand=True)\n",
    "\n",
    "# 获取数据子集\n",
    "# df.loc[0:2, ['ID', 'Name']]\n",
    "\n",
    "# 求和, 求平均, 统计导引\n",
    "# df['Age'].sum()\n",
    "# df['Age'].mean()\n",
    "# df['Age'].describe()\n",
    "# 每行求和\n",
    "# df['Sum'] = df[['ID', 'Age']].sum(axis=1)\n",
    "\n",
    "# 追加数据\n",
    "# df2 = pd.DataFrame({'ID': [6, 7], 'Name': ['F', 'G'], 'Age': [20, 21], 'Time': ['2019-01-01 00:00:00', '2019-01-01 00:00:00']})\n",
    "# df = df.append(df2, ignore_index=True).reset_index(drop=True)\n",
    "# 追加一行\n",
    "# se = pd.Series([6, 'F', 20, '2019-01-01 00:00:00'], index=['ID', 'Name', 'Age', 'Time'])\n",
    "# df = df.append(se, ignore_index=True).reset_index(drop=True)\n",
    "# 追加列\n",
    "# df['Sum'] = df[['ID', 'Age']].sum(axis=1)\n",
    "# 将sheet2的数据追加到当前表的列\n",
    "# df = pd.concat([df, df2], axis=1)\n",
    "\n",
    "\n",
    "\n",
    "# 删除\n",
    "# 删除某一行\n",
    "# df.drop(0, inplace=True)\n",
    "# 删除某一列\n",
    "# df.drop('ID', axis=1, inplace=True)\n",
    "\n",
    "# 修改某个单元格数据\n",
    "# df.loc[0, 'Name'] = 'A' //loc方法可以同时对多个单元格进行修改，并且支持布尔数组过滤、切片操作\n",
    "# df.at[0, 'Name'] = 'A' //at方法只能对单个单元格进行修改，并且不支持布尔数组过滤、切片操作\n"
   ]
  }
 ],
 "metadata": {
  "kernelspec": {
   "display_name": "Python 3",
   "language": "python",
   "name": "python3"
  },
  "language_info": {
   "codemirror_mode": {
    "name": "ipython",
    "version": 3
   },
   "file_extension": ".py",
   "mimetype": "text/x-python",
   "name": "python",
   "nbconvert_exporter": "python",
   "pygments_lexer": "ipython3",
   "version": "3.8.9"
  },
  "orig_nbformat": 4
 },
 "nbformat": 4,
 "nbformat_minor": 2
}
